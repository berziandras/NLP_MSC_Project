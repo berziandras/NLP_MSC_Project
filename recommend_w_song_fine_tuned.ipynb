{
 "cells": [
  {
   "cell_type": "code",
   "execution_count": 1,
   "metadata": {},
   "outputs": [],
   "source": [
    "from sentence_transformers import SentenceTransformer, util\n",
    "import pandas as pd\n",
    "from tqdm import tqdm\n",
    "import numpy as np"
   ]
  },
  {
   "cell_type": "code",
   "execution_count": 2,
   "metadata": {},
   "outputs": [
    {
     "name": "stderr",
     "output_type": "stream",
     "text": [
      "c:\\Users\\berzi\\AppData\\Local\\Programs\\Python\\Python311\\Lib\\site-packages\\torch\\_utils.py:776: UserWarning: TypedStorage is deprecated. It will be removed in the future and UntypedStorage will be the only storage class. This should only matter to you if you are using storages directly.  To access UntypedStorage directly, use tensor.untyped_storage() instead of tensor.storage()\n",
      "  return self.fget.__get__(instance, owner)()\n"
     ]
    }
   ],
   "source": [
    "model = SentenceTransformer(\"Santarabantoosoo/songs_fine-tuned-all-MiniLM-L12-v2\")"
   ]
  },
  {
   "cell_type": "code",
   "execution_count": 3,
   "metadata": {},
   "outputs": [],
   "source": [
    "df = pd.read_csv(\"data/spotify_millsongdata_w_genres.csv\")"
   ]
  },
  {
   "cell_type": "code",
   "execution_count": 4,
   "metadata": {},
   "outputs": [
    {
     "data": {
      "application/vnd.jupyter.widget-view+json": {
       "model_id": "7ecf25a548f64a7292ef9fdfcf8c0d1b",
       "version_major": 2,
       "version_minor": 0
      },
      "text/plain": [
       "Batches:   0%|          | 0/4 [00:00<?, ?it/s]"
      ]
     },
     "metadata": {},
     "output_type": "display_data"
    },
    {
     "data": {
      "application/vnd.jupyter.widget-view+json": {
       "model_id": "7464c863fa7a455da38b0d00b932ca55",
       "version_major": 2,
       "version_minor": 0
      },
      "text/plain": [
       "Batches:   0%|          | 0/4 [00:00<?, ?it/s]"
      ]
     },
     "metadata": {},
     "output_type": "display_data"
    },
    {
     "data": {
      "application/vnd.jupyter.widget-view+json": {
       "model_id": "e6cd255db16042d39521a1481e9f4325",
       "version_major": 2,
       "version_minor": 0
      },
      "text/plain": [
       "Batches:   0%|          | 0/4 [00:00<?, ?it/s]"
      ]
     },
     "metadata": {},
     "output_type": "display_data"
    }
   ],
   "source": [
    "song_embeddings = model.encode(df['song'].values, show_progress_bar=True)\n",
    "lyrics_embeddings = model.encode(df['cleaned_text'].values, show_progress_bar=True)\n",
    "genres_embeddings = model.encode(df['genres'].values, show_progress_bar=True)"
   ]
  },
  {
   "cell_type": "code",
   "execution_count": 5,
   "metadata": {},
   "outputs": [],
   "source": [
    "embeddings = []\n",
    "for i in range(len(song_embeddings)):\n",
    "    embeddings.append((song_embeddings[i] + lyrics_embeddings[i] + genres_embeddings[i]) / 3)"
   ]
  },
  {
   "cell_type": "code",
   "execution_count": 6,
   "metadata": {},
   "outputs": [
    {
     "name": "stderr",
     "output_type": "stream",
     "text": [
      "c:\\Users\\berzi\\AppData\\Local\\Programs\\Python\\Python311\\Lib\\site-packages\\sentence_transformers\\util.py:38: UserWarning: Creating a tensor from a list of numpy.ndarrays is extremely slow. Please consider converting the list to a single numpy.ndarray with numpy.array() before converting to a tensor. (Triggered internally at ..\\torch\\csrc\\utils\\tensor_new.cpp:248.)\n",
      "  a = torch.tensor(a)\n"
     ]
    }
   ],
   "source": [
    "cos_sim = util.cos_sim(embeddings, embeddings)"
   ]
  },
  {
   "cell_type": "code",
   "execution_count": 7,
   "metadata": {},
   "outputs": [
    {
     "data": {
      "text/plain": [
       "torch.Size([100, 100])"
      ]
     },
     "execution_count": 7,
     "metadata": {},
     "output_type": "execute_result"
    }
   ],
   "source": [
    "cos_sim.shape"
   ]
  },
  {
   "cell_type": "code",
   "execution_count": 27,
   "metadata": {},
   "outputs": [],
   "source": [
    "song_index = 50"
   ]
  },
  {
   "cell_type": "code",
   "execution_count": 28,
   "metadata": {},
   "outputs": [],
   "source": [
    "similar_songs = np.flip(np.argsort(cos_sim[song_index].numpy()))[1:10]"
   ]
  },
  {
   "cell_type": "code",
   "execution_count": 29,
   "metadata": {},
   "outputs": [
    {
     "data": {
      "text/plain": [
       "artist                                                       ABBA\n",
       "song                                      Lay All Your Love On Me\n",
       "cleaned_text    i was n't jealous before we met now every woma...\n",
       "genres                                                   Rock,Pop\n",
       "Name: 50, dtype: object"
      ]
     },
     "execution_count": 29,
     "metadata": {},
     "output_type": "execute_result"
    }
   ],
   "source": [
    "df.loc[song_index]"
   ]
  },
  {
   "cell_type": "code",
   "execution_count": 30,
   "metadata": {},
   "outputs": [
    {
     "data": {
      "text/html": [
       "<div>\n",
       "<style scoped>\n",
       "    .dataframe tbody tr th:only-of-type {\n",
       "        vertical-align: middle;\n",
       "    }\n",
       "\n",
       "    .dataframe tbody tr th {\n",
       "        vertical-align: top;\n",
       "    }\n",
       "\n",
       "    .dataframe thead th {\n",
       "        text-align: right;\n",
       "    }\n",
       "</style>\n",
       "<table border=\"1\" class=\"dataframe\">\n",
       "  <thead>\n",
       "    <tr style=\"text-align: right;\">\n",
       "      <th></th>\n",
       "      <th>artist</th>\n",
       "      <th>song</th>\n",
       "      <th>cleaned_text</th>\n",
       "      <th>genres</th>\n",
       "      <th>similarity</th>\n",
       "    </tr>\n",
       "  </thead>\n",
       "  <tbody>\n",
       "    <tr>\n",
       "      <th>44</th>\n",
       "      <td>ABBA</td>\n",
       "      <td>I've Been Waiting For You</td>\n",
       "      <td>i , i 've been in love before i thought i woul...</td>\n",
       "      <td>Rock,Pop</td>\n",
       "      <td>0.763489</td>\n",
       "    </tr>\n",
       "    <tr>\n",
       "      <th>55</th>\n",
       "      <td>ABBA</td>\n",
       "      <td>Lovers</td>\n",
       "      <td>sit down and listen 'cause i 've got good news...</td>\n",
       "      <td>Pop,Rock</td>\n",
       "      <td>0.741409</td>\n",
       "    </tr>\n",
       "    <tr>\n",
       "      <th>53</th>\n",
       "      <td>ABBA</td>\n",
       "      <td>Love Isn't Easy</td>\n",
       "      <td>do you remember the first time , and all of yo...</td>\n",
       "      <td>Pop,Rock</td>\n",
       "      <td>0.740054</td>\n",
       "    </tr>\n",
       "    <tr>\n",
       "      <th>52</th>\n",
       "      <td>ABBA</td>\n",
       "      <td>Love Has It's Ways</td>\n",
       "      <td>spring in the air the sun was shining still th...</td>\n",
       "      <td>Rock,Pop</td>\n",
       "      <td>0.724492</td>\n",
       "    </tr>\n",
       "    <tr>\n",
       "      <th>64</th>\n",
       "      <td>ABBA</td>\n",
       "      <td>My Love, My Life</td>\n",
       "      <td>i 've seen it on your face tells me more than ...</td>\n",
       "      <td>Rock,Pop</td>\n",
       "      <td>0.720051</td>\n",
       "    </tr>\n",
       "    <tr>\n",
       "      <th>77</th>\n",
       "      <td>ABBA</td>\n",
       "      <td>Rock Me</td>\n",
       "      <td>rock me , give me that kick now rock me , show...</td>\n",
       "      <td>Rock,Pop</td>\n",
       "      <td>0.718103</td>\n",
       "    </tr>\n",
       "    <tr>\n",
       "      <th>34</th>\n",
       "      <td>ABBA</td>\n",
       "      <td>I Am Just A Girl</td>\n",
       "      <td>i am just a girl one among the others , nothin...</td>\n",
       "      <td>Rock,Pop</td>\n",
       "      <td>0.717480</td>\n",
       "    </tr>\n",
       "    <tr>\n",
       "      <th>92</th>\n",
       "      <td>ABBA</td>\n",
       "      <td>That's Me</td>\n",
       "      <td>are you sure you want to hear more what if i a...</td>\n",
       "      <td>Rock,Pop</td>\n",
       "      <td>0.714549</td>\n",
       "    </tr>\n",
       "    <tr>\n",
       "      <th>90</th>\n",
       "      <td>ABBA</td>\n",
       "      <td>Take A Chance On Me</td>\n",
       "      <td>if you change your mind , i 'm the first in li...</td>\n",
       "      <td>Pop,Rock</td>\n",
       "      <td>0.713849</td>\n",
       "    </tr>\n",
       "  </tbody>\n",
       "</table>\n",
       "</div>"
      ],
      "text/plain": [
       "   artist                       song   \n",
       "44   ABBA  I've Been Waiting For You  \\\n",
       "55   ABBA                     Lovers   \n",
       "53   ABBA            Love Isn't Easy   \n",
       "52   ABBA         Love Has It's Ways   \n",
       "64   ABBA           My Love, My Life   \n",
       "77   ABBA                    Rock Me   \n",
       "34   ABBA           I Am Just A Girl   \n",
       "92   ABBA                  That's Me   \n",
       "90   ABBA        Take A Chance On Me   \n",
       "\n",
       "                                         cleaned_text    genres  similarity  \n",
       "44  i , i 've been in love before i thought i woul...  Rock,Pop    0.763489  \n",
       "55  sit down and listen 'cause i 've got good news...  Pop,Rock    0.741409  \n",
       "53  do you remember the first time , and all of yo...  Pop,Rock    0.740054  \n",
       "52  spring in the air the sun was shining still th...  Rock,Pop    0.724492  \n",
       "64  i 've seen it on your face tells me more than ...  Rock,Pop    0.720051  \n",
       "77  rock me , give me that kick now rock me , show...  Rock,Pop    0.718103  \n",
       "34  i am just a girl one among the others , nothin...  Rock,Pop    0.717480  \n",
       "92  are you sure you want to hear more what if i a...  Rock,Pop    0.714549  \n",
       "90  if you change your mind , i 'm the first in li...  Pop,Rock    0.713849  "
      ]
     },
     "execution_count": 30,
     "metadata": {},
     "output_type": "execute_result"
    }
   ],
   "source": [
    "odf = df.loc[similar_songs]\n",
    "odf['similarity'] = cos_sim[song_index].numpy()[similar_songs]\n",
    "odf"
   ]
  }
 ],
 "metadata": {
  "kernelspec": {
   "display_name": "Python 3",
   "language": "python",
   "name": "python3"
  },
  "language_info": {
   "codemirror_mode": {
    "name": "ipython",
    "version": 3
   },
   "file_extension": ".py",
   "mimetype": "text/x-python",
   "name": "python",
   "nbconvert_exporter": "python",
   "pygments_lexer": "ipython3",
   "version": "3.11.0"
  }
 },
 "nbformat": 4,
 "nbformat_minor": 2
}
