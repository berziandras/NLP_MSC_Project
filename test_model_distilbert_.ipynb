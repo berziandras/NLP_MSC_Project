{
 "cells": [
  {
   "cell_type": "code",
   "execution_count": 13,
   "metadata": {},
   "outputs": [],
   "source": [
    "from sentence_transformers import SentenceTransformer\n",
    "import pandas as pd\n",
    "import numpy as np\n",
    "from tqdm import tqdm"
   ]
  },
  {
   "cell_type": "code",
   "execution_count": 2,
   "metadata": {},
   "outputs": [],
   "source": [
    "model = SentenceTransformer(\"distilbert-base-nli-mean-tokens\")"
   ]
  },
  {
   "cell_type": "code",
   "execution_count": 3,
   "metadata": {},
   "outputs": [],
   "source": [
    "df = pd.read_csv(\"data/processed_spotify_millsongdata.csv\")"
   ]
  },
  {
   "cell_type": "code",
   "execution_count": 17,
   "metadata": {},
   "outputs": [
    {
     "name": "stdout",
     "output_type": "stream",
     "text": [
      "0 1.0\n",
      "1 0.6655101\n",
      "2 0.51465714\n",
      "3 0.7100266\n",
      "4 0.7173138\n",
      "5 0.46171212\n",
      "6 0.56353784\n",
      "7 0.5833892\n",
      "8 0.5638747\n",
      "9 0.54485625\n",
      "10 0.5831326\n",
      "11 0.6670763\n",
      "12 0.73505014\n",
      "13 0.73885417\n",
      "14 0.59026647\n",
      "15 0.6301587\n",
      "16 0.64956665\n",
      "17 0.53841716\n",
      "18 0.5670035\n",
      "19 0.24343908\n"
     ]
    }
   ],
   "source": [
    "for i in range(20):\n",
    "    encoding1 = model.encode(df['cleaned_text'][0])\n",
    "    encoding2 = model.encode(df['cleaned_text'][i])\n",
    "    similarity = np.dot(encoding1, encoding2) / (np.linalg.norm(encoding1) * np.linalg.norm(encoding2))\n",
    "\n",
    "    print(i, similarity)"
   ]
  }
 ],
 "metadata": {
  "kernelspec": {
   "display_name": "Python 3",
   "language": "python",
   "name": "python3"
  },
  "language_info": {
   "codemirror_mode": {
    "name": "ipython",
    "version": 3
   },
   "file_extension": ".py",
   "mimetype": "text/x-python",
   "name": "python",
   "nbconvert_exporter": "python",
   "pygments_lexer": "ipython3",
   "version": "3.11.0"
  }
 },
 "nbformat": 4,
 "nbformat_minor": 2
}
