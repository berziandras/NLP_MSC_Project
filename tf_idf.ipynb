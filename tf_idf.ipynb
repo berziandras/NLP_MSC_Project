{
 "cells": [
  {
   "cell_type": "code",
   "execution_count": 1,
   "metadata": {},
   "outputs": [],
   "source": [
    "import math"
   ]
  },
  {
   "cell_type": "code",
   "execution_count": 4,
   "metadata": {},
   "outputs": [
    {
     "name": "stdout",
     "output_type": "stream",
     "text": [
      "4\n"
     ]
    }
   ],
   "source": [
    "d = list()\n",
    "\n",
    "d.append('I prefer scikit-learn to orange'.lower().split(' '))\n",
    "d.append('An apple a day keeps the doctor away'.lower().split(' '))\n",
    "d.append('Never compare an apple to an orange'.lower().split(' '))\n",
    "\n",
    "compDoc = \"I'd like an apple\".split(' ')\n",
    "terms = set()\n",
    "tf = list()\n",
    "temp = dict()\n",
    "\n",
    "for doc in d:\n",
    "    for item in doc:\n",
    "         temp[item] = doc.count(item)/len(doc)\n",
    "         terms.add(item)\n",
    "    tf.append(temp)\n",
    "    temp = dict()\n",
    "idf = dict()\n",
    "temp = dict()\n",
    "\n",
    "for term in terms:\n",
    "    temp[term] = 0\n",
    "    for doc in d:\n",
    "        if term in doc:\n",
    "           temp[term]+=1\n",
    "    idf[term] = 1+math.log(3/temp[term])\n",
    "tfidf = [0, 0, 0]\n",
    "\n",
    "for term in compDoc:\n",
    "    for i in range(len(d)):\n",
    "        if term in d[i]:\n",
    "           tfidf[i]+= tf[i][term]*idf[term]\n",
    "\n",
    "print(tfidf.index(max(tfidf))+2)"
   ]
  }
 ],
 "metadata": {
  "kernelspec": {
   "display_name": "Python 3",
   "language": "python",
   "name": "python3"
  },
  "language_info": {
   "codemirror_mode": {
    "name": "ipython",
    "version": 3
   },
   "file_extension": ".py",
   "mimetype": "text/x-python",
   "name": "python",
   "nbconvert_exporter": "python",
   "pygments_lexer": "ipython3",
   "version": "3.11.0"
  }
 },
 "nbformat": 4,
 "nbformat_minor": 2
}
