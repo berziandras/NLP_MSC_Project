{
 "cells": [
  {
   "cell_type": "code",
   "execution_count": 1,
   "metadata": {},
   "outputs": [],
   "source": [
    "from sentence_transformers import SentenceTransformer, util\n",
    "import pandas as pd\n",
    "from tqdm import tqdm\n",
    "import numpy as np"
   ]
  },
  {
   "cell_type": "code",
   "execution_count": 2,
   "metadata": {},
   "outputs": [
    {
     "name": "stderr",
     "output_type": "stream",
     "text": [
      "No sentence-transformers model found with name bert-base-uncased. Creating a new one with MEAN pooling.\n"
     ]
    }
   ],
   "source": [
    "model = SentenceTransformer(\"bert-base-uncased\")"
   ]
  },
  {
   "cell_type": "code",
   "execution_count": 3,
   "metadata": {},
   "outputs": [],
   "source": [
    "df = pd.read_csv(\"data/spotify_millsongdata_w_genres.csv\")"
   ]
  },
  {
   "cell_type": "code",
   "execution_count": 4,
   "metadata": {},
   "outputs": [
    {
     "data": {
      "application/vnd.jupyter.widget-view+json": {
       "model_id": "b5ebaa24a7fb437b9d679f4739e801dc",
       "version_major": 2,
       "version_minor": 0
      },
      "text/plain": [
       "Batches:   0%|          | 0/4 [00:00<?, ?it/s]"
      ]
     },
     "metadata": {},
     "output_type": "display_data"
    },
    {
     "data": {
      "application/vnd.jupyter.widget-view+json": {
       "model_id": "467f5102bcaa448dbc2523e3b029f98f",
       "version_major": 2,
       "version_minor": 0
      },
      "text/plain": [
       "Batches:   0%|          | 0/4 [00:00<?, ?it/s]"
      ]
     },
     "metadata": {},
     "output_type": "display_data"
    },
    {
     "data": {
      "application/vnd.jupyter.widget-view+json": {
       "model_id": "9385116626304d94b161ab9ed99c07b4",
       "version_major": 2,
       "version_minor": 0
      },
      "text/plain": [
       "Batches:   0%|          | 0/4 [00:00<?, ?it/s]"
      ]
     },
     "metadata": {},
     "output_type": "display_data"
    }
   ],
   "source": [
    "song_embeddings = model.encode(df['song'].values, show_progress_bar=True)\n",
    "lyrics_embeddings = model.encode(df['cleaned_text'].values, show_progress_bar=True)\n",
    "genres_embeddings = model.encode(df['genres'].values, show_progress_bar=True)"
   ]
  },
  {
   "cell_type": "code",
   "execution_count": 5,
   "metadata": {},
   "outputs": [],
   "source": [
    "embeddings = []\n",
    "for i in range(len(song_embeddings)):\n",
    "    embeddings.append((song_embeddings[i] + lyrics_embeddings[i] + genres_embeddings[i]) / 3)"
   ]
  },
  {
   "cell_type": "code",
   "execution_count": 6,
   "metadata": {},
   "outputs": [
    {
     "name": "stderr",
     "output_type": "stream",
     "text": [
      "c:\\Users\\berzi\\AppData\\Local\\Programs\\Python\\Python311\\Lib\\site-packages\\sentence_transformers\\util.py:38: UserWarning: Creating a tensor from a list of numpy.ndarrays is extremely slow. Please consider converting the list to a single numpy.ndarray with numpy.array() before converting to a tensor. (Triggered internally at ..\\torch\\csrc\\utils\\tensor_new.cpp:248.)\n",
      "  a = torch.tensor(a)\n"
     ]
    }
   ],
   "source": [
    "cos_sim = util.cos_sim(embeddings, embeddings)"
   ]
  },
  {
   "cell_type": "code",
   "execution_count": 7,
   "metadata": {},
   "outputs": [
    {
     "data": {
      "text/plain": [
       "torch.Size([100, 100])"
      ]
     },
     "execution_count": 7,
     "metadata": {},
     "output_type": "execute_result"
    }
   ],
   "source": [
    "cos_sim.shape"
   ]
  },
  {
   "cell_type": "code",
   "execution_count": 12,
   "metadata": {},
   "outputs": [],
   "source": [
    "song_index = 0"
   ]
  },
  {
   "cell_type": "code",
   "execution_count": 13,
   "metadata": {},
   "outputs": [],
   "source": [
    "similar_songs = np.flip(np.argsort(cos_sim[song_index].numpy()))[1:10]"
   ]
  },
  {
   "cell_type": "code",
   "execution_count": 16,
   "metadata": {},
   "outputs": [
    {
     "data": {
      "text/plain": [
       "artist                                                       ABBA\n",
       "song                                        Ahe's My Kind Of Girl\n",
       "cleaned_text    look at her face , it 's a wonderful face and ...\n",
       "genres                                                   Rock,Pop\n",
       "Name: 0, dtype: object"
      ]
     },
     "execution_count": 16,
     "metadata": {},
     "output_type": "execute_result"
    }
   ],
   "source": [
    "df.loc[song_index]"
   ]
  },
  {
   "cell_type": "code",
   "execution_count": 15,
   "metadata": {},
   "outputs": [
    {
     "data": {
      "text/html": [
       "<div>\n",
       "<style scoped>\n",
       "    .dataframe tbody tr th:only-of-type {\n",
       "        vertical-align: middle;\n",
       "    }\n",
       "\n",
       "    .dataframe tbody tr th {\n",
       "        vertical-align: top;\n",
       "    }\n",
       "\n",
       "    .dataframe thead th {\n",
       "        text-align: right;\n",
       "    }\n",
       "</style>\n",
       "<table border=\"1\" class=\"dataframe\">\n",
       "  <thead>\n",
       "    <tr style=\"text-align: right;\">\n",
       "      <th></th>\n",
       "      <th>artist</th>\n",
       "      <th>song</th>\n",
       "      <th>cleaned_text</th>\n",
       "      <th>genres</th>\n",
       "      <th>similarity</th>\n",
       "    </tr>\n",
       "  </thead>\n",
       "  <tbody>\n",
       "    <tr>\n",
       "      <th>34</th>\n",
       "      <td>ABBA</td>\n",
       "      <td>I Am Just A Girl</td>\n",
       "      <td>i am just a girl one among the others , nothin...</td>\n",
       "      <td>Rock,Pop</td>\n",
       "      <td>0.929272</td>\n",
       "    </tr>\n",
       "    <tr>\n",
       "      <th>92</th>\n",
       "      <td>ABBA</td>\n",
       "      <td>That's Me</td>\n",
       "      <td>are you sure you want to hear more what if i a...</td>\n",
       "      <td>Rock,Pop</td>\n",
       "      <td>0.920342</td>\n",
       "    </tr>\n",
       "    <tr>\n",
       "      <th>59</th>\n",
       "      <td>ABBA</td>\n",
       "      <td>Me And I</td>\n",
       "      <td>sometimes when i 'm mad there 's a part of me ...</td>\n",
       "      <td>Rock,Pop</td>\n",
       "      <td>0.908379</td>\n",
       "    </tr>\n",
       "    <tr>\n",
       "      <th>13</th>\n",
       "      <td>ABBA</td>\n",
       "      <td>Does Your Mother Know</td>\n",
       "      <td>you 're so hot , teasing me so you 're blue bu...</td>\n",
       "      <td>Rock,Pop</td>\n",
       "      <td>0.903128</td>\n",
       "    </tr>\n",
       "    <tr>\n",
       "      <th>52</th>\n",
       "      <td>ABBA</td>\n",
       "      <td>Love Has It's Ways</td>\n",
       "      <td>spring in the air the sun was shining still th...</td>\n",
       "      <td>Rock,Pop</td>\n",
       "      <td>0.901911</td>\n",
       "    </tr>\n",
       "    <tr>\n",
       "      <th>43</th>\n",
       "      <td>ABBA</td>\n",
       "      <td>I'm A Marionette</td>\n",
       "      <td>you 're so free that 's what everybody 's tell...</td>\n",
       "      <td>Rock,Pop</td>\n",
       "      <td>0.899278</td>\n",
       "    </tr>\n",
       "    <tr>\n",
       "      <th>81</th>\n",
       "      <td>ABBA</td>\n",
       "      <td>Should I Laugh Or Cry</td>\n",
       "      <td>frida he stands towering over me beside my bed...</td>\n",
       "      <td>Rock,Pop</td>\n",
       "      <td>0.895975</td>\n",
       "    </tr>\n",
       "    <tr>\n",
       "      <th>50</th>\n",
       "      <td>ABBA</td>\n",
       "      <td>Lay All Your Love On Me</td>\n",
       "      <td>i was n't jealous before we met now every woma...</td>\n",
       "      <td>Rock,Pop</td>\n",
       "      <td>0.892506</td>\n",
       "    </tr>\n",
       "    <tr>\n",
       "      <th>8</th>\n",
       "      <td>ABBA</td>\n",
       "      <td>Crazy World</td>\n",
       "      <td>i was out with the morning sun could n't sleep...</td>\n",
       "      <td>Pop,Rock</td>\n",
       "      <td>0.892207</td>\n",
       "    </tr>\n",
       "  </tbody>\n",
       "</table>\n",
       "</div>"
      ],
      "text/plain": [
       "   artist                     song   \n",
       "34   ABBA         I Am Just A Girl  \\\n",
       "92   ABBA                That's Me   \n",
       "59   ABBA                 Me And I   \n",
       "13   ABBA    Does Your Mother Know   \n",
       "52   ABBA       Love Has It's Ways   \n",
       "43   ABBA         I'm A Marionette   \n",
       "81   ABBA    Should I Laugh Or Cry   \n",
       "50   ABBA  Lay All Your Love On Me   \n",
       "8    ABBA              Crazy World   \n",
       "\n",
       "                                         cleaned_text    genres  similarity  \n",
       "34  i am just a girl one among the others , nothin...  Rock,Pop    0.929272  \n",
       "92  are you sure you want to hear more what if i a...  Rock,Pop    0.920342  \n",
       "59  sometimes when i 'm mad there 's a part of me ...  Rock,Pop    0.908379  \n",
       "13  you 're so hot , teasing me so you 're blue bu...  Rock,Pop    0.903128  \n",
       "52  spring in the air the sun was shining still th...  Rock,Pop    0.901911  \n",
       "43  you 're so free that 's what everybody 's tell...  Rock,Pop    0.899278  \n",
       "81  frida he stands towering over me beside my bed...  Rock,Pop    0.895975  \n",
       "50  i was n't jealous before we met now every woma...  Rock,Pop    0.892506  \n",
       "8   i was out with the morning sun could n't sleep...  Pop,Rock    0.892207  "
      ]
     },
     "execution_count": 15,
     "metadata": {},
     "output_type": "execute_result"
    }
   ],
   "source": [
    "odf = df.loc[similar_songs]\n",
    "odf['similarity'] = cos_sim[song_index].numpy()[similar_songs]\n",
    "odf"
   ]
  }
 ],
 "metadata": {
  "kernelspec": {
   "display_name": "Python 3",
   "language": "python",
   "name": "python3"
  },
  "language_info": {
   "codemirror_mode": {
    "name": "ipython",
    "version": 3
   },
   "file_extension": ".py",
   "mimetype": "text/x-python",
   "name": "python",
   "nbconvert_exporter": "python",
   "pygments_lexer": "ipython3",
   "version": "3.11.0"
  }
 },
 "nbformat": 4,
 "nbformat_minor": 2
}
