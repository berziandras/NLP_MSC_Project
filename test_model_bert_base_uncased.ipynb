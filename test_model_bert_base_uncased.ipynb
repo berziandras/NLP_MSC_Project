{
 "cells": [
  {
   "cell_type": "code",
   "execution_count": 22,
   "metadata": {},
   "outputs": [],
   "source": [
    "from sentence_transformers import SentenceTransformer\n",
    "import pandas as pd\n",
    "import numpy as np"
   ]
  },
  {
   "cell_type": "code",
   "execution_count": 23,
   "metadata": {},
   "outputs": [
    {
     "name": "stderr",
     "output_type": "stream",
     "text": [
      "No sentence-transformers model found with name bert-base-uncased. Creating a new one with MEAN pooling.\n"
     ]
    }
   ],
   "source": [
    "model = SentenceTransformer(\"bert-base-uncased\")"
   ]
  },
  {
   "cell_type": "code",
   "execution_count": 24,
   "metadata": {},
   "outputs": [],
   "source": [
    "df = pd.read_csv(\"data/processed_spotify_millsongdata.csv\")"
   ]
  },
  {
   "cell_type": "code",
   "execution_count": 25,
   "metadata": {},
   "outputs": [
    {
     "name": "stdout",
     "output_type": "stream",
     "text": [
      "0 0.9999999\n",
      "1 0.8291252\n",
      "2 0.8904894\n",
      "3 0.804635\n",
      "4 0.8129895\n",
      "5 0.8372631\n",
      "6 0.85899585\n",
      "7 0.8873468\n",
      "8 0.913299\n",
      "9 0.84205246\n",
      "10 0.88096625\n",
      "11 0.8768636\n",
      "12 0.8967414\n",
      "13 0.88799006\n",
      "14 0.8727108\n",
      "15 0.87195116\n",
      "16 0.89575356\n",
      "17 0.85624427\n",
      "18 0.8885949\n",
      "19 0.571926\n"
     ]
    }
   ],
   "source": [
    "for i in range(20):\n",
    "    encoding1 = model.encode(df['cleaned_text'][0])\n",
    "    encoding2 = model.encode(df['cleaned_text'][i])\n",
    "    similarity = np.dot(encoding1, encoding2) / (np.linalg.norm(encoding1) * np.linalg.norm(encoding2))\n",
    "\n",
    "    print(i, similarity)"
   ]
  },
  {
   "cell_type": "code",
   "execution_count": 26,
   "metadata": {},
   "outputs": [
    {
     "data": {
      "text/plain": [
       "artist                                                       ABBA\n",
       "song                                        Ahe's My Kind Of Girl\n",
       "cleaned_text    look at her face , it 's a wonderful face and ...\n",
       "Name: 0, dtype: object"
      ]
     },
     "execution_count": 26,
     "metadata": {},
     "output_type": "execute_result"
    }
   ],
   "source": [
    "df.iloc[0]"
   ]
  },
  {
   "cell_type": "code",
   "execution_count": 27,
   "metadata": {},
   "outputs": [
    {
     "data": {
      "text/plain": [
       "artist                                                       ABBA\n",
       "song                                                     Fernando\n",
       "cleaned_text    can you hear the drums fernando ? i remember l...\n",
       "Name: 18, dtype: object"
      ]
     },
     "execution_count": 27,
     "metadata": {},
     "output_type": "execute_result"
    }
   ],
   "source": [
    "df.iloc[18]"
   ]
  }
 ],
 "metadata": {
  "kernelspec": {
   "display_name": "Python 3",
   "language": "python",
   "name": "python3"
  },
  "language_info": {
   "codemirror_mode": {
    "name": "ipython",
    "version": 3
   },
   "file_extension": ".py",
   "mimetype": "text/x-python",
   "name": "python",
   "nbconvert_exporter": "python",
   "pygments_lexer": "ipython3",
   "version": "3.11.0"
  }
 },
 "nbformat": 4,
 "nbformat_minor": 2
}
