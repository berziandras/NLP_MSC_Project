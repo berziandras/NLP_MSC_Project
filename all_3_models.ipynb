{
 "cells": [
  {
   "cell_type": "code",
   "execution_count": 1,
   "metadata": {},
   "outputs": [],
   "source": [
    "from sentence_transformers import SentenceTransformer, util\n",
    "import pandas as pd\n",
    "from tqdm import tqdm"
   ]
  },
  {
   "cell_type": "code",
   "execution_count": 2,
   "metadata": {},
   "outputs": [
    {
     "name": "stderr",
     "output_type": "stream",
     "text": [
      "c:\\Users\\berzi\\AppData\\Local\\Programs\\Python\\Python311\\Lib\\site-packages\\torch\\_utils.py:776: UserWarning: TypedStorage is deprecated. It will be removed in the future and UntypedStorage will be the only storage class. This should only matter to you if you are using storages directly.  To access UntypedStorage directly, use tensor.untyped_storage() instead of tensor.storage()\n",
      "  return self.fget.__get__(instance, owner)()\n"
     ]
    }
   ],
   "source": [
    "model1 = SentenceTransformer('sentence-transformers/all-MiniLM-L6-v2')\n",
    "model2 = SentenceTransformer(\"Santarabantoosoo/songs_fine-tuned-all-MiniLM-L12-v2\")\n",
    "model3 = SentenceTransformer(\"BAAI/bge-m3\")"
   ]
  },
  {
   "cell_type": "code",
   "execution_count": 3,
   "metadata": {},
   "outputs": [],
   "source": [
    "df = pd.read_csv(\"data/processed_spotify_millsongdata.csv\")"
   ]
  },
  {
   "cell_type": "code",
   "execution_count": 4,
   "metadata": {},
   "outputs": [
    {
     "name": "stdout",
     "output_type": "stream",
     "text": [
      "0 Similarity: 1.0 1.0 1.0\n",
      "1 Similarity: 0.228855699300766 0.27078187465667725 0.5528274774551392\n",
      "2 Similarity: 0.34487855434417725 0.1858198046684265 0.5460365414619446\n",
      "3 Similarity: 0.3844108283519745 0.1328374147415161 0.5670067071914673\n",
      "4 Similarity: 0.3566630184650421 0.102468341588974 0.5737831592559814\n",
      "5 Similarity: 0.20147080719470978 0.029360096901655197 0.5345611572265625\n",
      "6 Similarity: 0.20555487275123596 0.13929694890975952 0.48808979988098145\n",
      "7 Similarity: 0.3073119521141052 0.11327213048934937 0.5682237148284912\n",
      "8 Similarity: 0.3674798905849457 0.44349753856658936 0.6440651416778564\n",
      "9 Similarity: 0.14659777283668518 0.16374847292900085 0.5479599237442017\n",
      "10 Similarity: 0.21813130378723145 0.2488551288843155 0.5644234418869019\n",
      "11 Similarity: 0.2866218686103821 0.3453655242919922 0.573309063911438\n",
      "12 Similarity: 0.30765002965927124 0.12902924418449402 0.6112425923347473\n",
      "13 Similarity: 0.43511879444122314 0.3147697150707245 0.6678413152694702\n",
      "14 Similarity: 0.29934972524642944 0.14255523681640625 0.5642096996307373\n",
      "15 Similarity: 0.27598080039024353 0.19743940234184265 0.582568883895874\n",
      "16 Similarity: 0.2928856611251831 0.30820202827453613 0.5578382611274719\n",
      "17 Similarity: 0.12156407535076141 0.21740131080150604 0.5376197099685669\n",
      "18 Similarity: 0.13938027620315552 0.2849618196487427 0.48139798641204834\n",
      "19 Similarity: 0.027191955596208572 0.1685316413640976 0.47171464562416077\n"
     ]
    }
   ],
   "source": [
    "for i in range(20):\n",
    "    query_embedding1 = model1.encode(df['cleaned_text'][0])\n",
    "    passage_embedding1 = model1.encode([df['cleaned_text'][0],\n",
    "                                        df['cleaned_text'][i]])\n",
    "    sim1 = util.dot_score(query_embedding1, passage_embedding1)[0]\n",
    "\n",
    "    query_embedding2 = model2.encode(df['cleaned_text'][0])\n",
    "    passage_embedding2 = model2.encode([df['cleaned_text'][0],\n",
    "                                        df['cleaned_text'][i]])\n",
    "    sim2 = util.dot_score(query_embedding2, passage_embedding2)[0]\n",
    "\n",
    "    query_embedding3 = model3.encode(df['cleaned_text'][0])\n",
    "    passage_embedding3 = model3.encode([df['cleaned_text'][0],\n",
    "                                        df['cleaned_text'][i]])\n",
    "    sim3 = util.dot_score(query_embedding3, passage_embedding3)[0]\n",
    "\n",
    "    print(i, \"Similarity:\", sim1[1].item(), sim2[1].item(), sim3[1].item())"
   ]
  }
 ],
 "metadata": {
  "kernelspec": {
   "display_name": "Python 3",
   "language": "python",
   "name": "python3"
  },
  "language_info": {
   "codemirror_mode": {
    "name": "ipython",
    "version": 3
   },
   "file_extension": ".py",
   "mimetype": "text/x-python",
   "name": "python",
   "nbconvert_exporter": "python",
   "pygments_lexer": "ipython3",
   "version": "3.11.0"
  }
 },
 "nbformat": 4,
 "nbformat_minor": 2
}
