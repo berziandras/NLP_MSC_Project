{
 "cells": [
  {
   "cell_type": "code",
   "execution_count": 2,
   "metadata": {},
   "outputs": [],
   "source": [
    "from sentence_transformers import SentenceTransformer, util\n",
    "import pandas as pd"
   ]
  },
  {
   "cell_type": "code",
   "execution_count": 3,
   "metadata": {},
   "outputs": [
    {
     "name": "stderr",
     "output_type": "stream",
     "text": [
      "c:\\Users\\berzi\\AppData\\Local\\Programs\\Python\\Python311\\Lib\\site-packages\\torch\\_utils.py:776: UserWarning: TypedStorage is deprecated. It will be removed in the future and UntypedStorage will be the only storage class. This should only matter to you if you are using storages directly.  To access UntypedStorage directly, use tensor.untyped_storage() instead of tensor.storage()\n",
      "  return self.fget.__get__(instance, owner)()\n"
     ]
    }
   ],
   "source": [
    "model = SentenceTransformer(\"Santarabantoosoo/songs_fine-tuned-all-MiniLM-L12-v2\")"
   ]
  },
  {
   "cell_type": "code",
   "execution_count": 4,
   "metadata": {},
   "outputs": [],
   "source": [
    "df = pd.read_csv(\"data/processed_spotify_millsongdata.csv\")"
   ]
  },
  {
   "cell_type": "code",
   "execution_count": 5,
   "metadata": {},
   "outputs": [
    {
     "name": "stdout",
     "output_type": "stream",
     "text": [
      "0 Similarity: 1.0\n",
      "1 Similarity: 0.27078187465667725\n",
      "2 Similarity: 0.1858198046684265\n",
      "3 Similarity: 0.1328374147415161\n",
      "4 Similarity: 0.102468341588974\n",
      "5 Similarity: 0.029360096901655197\n",
      "6 Similarity: 0.13929694890975952\n",
      "7 Similarity: 0.11327213048934937\n",
      "8 Similarity: 0.44349753856658936\n",
      "9 Similarity: 0.16374847292900085\n",
      "10 Similarity: 0.2488551288843155\n",
      "11 Similarity: 0.3453655242919922\n",
      "12 Similarity: 0.12902924418449402\n",
      "13 Similarity: 0.3147697150707245\n",
      "14 Similarity: 0.14255523681640625\n",
      "15 Similarity: 0.19743940234184265\n",
      "16 Similarity: 0.30820202827453613\n",
      "17 Similarity: 0.21740131080150604\n",
      "18 Similarity: 0.2849618196487427\n",
      "19 Similarity: 0.1685316413640976\n"
     ]
    }
   ],
   "source": [
    "for i in range(20):\n",
    "    query_embedding = model.encode(df['cleaned_text'][0])\n",
    "    passage_embedding = model.encode([df['cleaned_text'][0],\n",
    "                                    df['cleaned_text'][i]])\n",
    "\n",
    "    sim = util.dot_score(query_embedding, passage_embedding)[0]\n",
    "    print(i, \"Similarity:\", sim[1].item())"
   ]
  },
  {
   "cell_type": "markdown",
   "metadata": {},
   "source": [
    "Ez lényegében a cos similarity"
   ]
  }
 ],
 "metadata": {
  "kernelspec": {
   "display_name": "Python 3",
   "language": "python",
   "name": "python3"
  },
  "language_info": {
   "codemirror_mode": {
    "name": "ipython",
    "version": 3
   },
   "file_extension": ".py",
   "mimetype": "text/x-python",
   "name": "python",
   "nbconvert_exporter": "python",
   "pygments_lexer": "ipython3",
   "version": "3.11.0"
  }
 },
 "nbformat": 4,
 "nbformat_minor": 2
}
