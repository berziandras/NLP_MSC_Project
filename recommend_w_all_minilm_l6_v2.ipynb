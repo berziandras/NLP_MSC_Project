{
 "cells": [
  {
   "cell_type": "code",
   "execution_count": 12,
   "metadata": {},
   "outputs": [],
   "source": [
    "from sentence_transformers import SentenceTransformer, util\n",
    "import pandas as pd\n",
    "from tqdm import tqdm\n",
    "import numpy as np"
   ]
  },
  {
   "cell_type": "code",
   "execution_count": 13,
   "metadata": {},
   "outputs": [],
   "source": [
    "model = SentenceTransformer('sentence-transformers/all-MiniLM-L6-v2')"
   ]
  },
  {
   "cell_type": "code",
   "execution_count": 14,
   "metadata": {},
   "outputs": [],
   "source": [
    "df = pd.read_csv(\"data/spotify_millsongdata_w_genres.csv\")"
   ]
  },
  {
   "cell_type": "code",
   "execution_count": 15,
   "metadata": {},
   "outputs": [
    {
     "data": {
      "application/vnd.jupyter.widget-view+json": {
       "model_id": "d304511c1e69405d8616370ca01947a2",
       "version_major": 2,
       "version_minor": 0
      },
      "text/plain": [
       "Batches:   0%|          | 0/782 [00:00<?, ?it/s]"
      ]
     },
     "metadata": {},
     "output_type": "display_data"
    },
    {
     "data": {
      "application/vnd.jupyter.widget-view+json": {
       "model_id": "9d2cb58d7d184755b1820010377dbb91",
       "version_major": 2,
       "version_minor": 0
      },
      "text/plain": [
       "Batches:   0%|          | 0/782 [00:00<?, ?it/s]"
      ]
     },
     "metadata": {},
     "output_type": "display_data"
    },
    {
     "data": {
      "application/vnd.jupyter.widget-view+json": {
       "model_id": "2729493a25cd4729a3c6930faee0a7be",
       "version_major": 2,
       "version_minor": 0
      },
      "text/plain": [
       "Batches:   0%|          | 0/782 [00:00<?, ?it/s]"
      ]
     },
     "metadata": {},
     "output_type": "display_data"
    }
   ],
   "source": [
    "song_embeddings = model.encode(df['song'].values, show_progress_bar=True)\n",
    "lyrics_embeddings = model.encode(df['cleaned_text'].values, show_progress_bar=True)\n",
    "genres_embeddings = model.encode(df['genres'].values, show_progress_bar=True)"
   ]
  },
  {
   "cell_type": "code",
   "execution_count": 16,
   "metadata": {},
   "outputs": [],
   "source": [
    "embeddings = []\n",
    "for i in range(len(song_embeddings)):\n",
    "    embeddings.append((song_embeddings[i] + lyrics_embeddings[i] + genres_embeddings[i]) / 3)"
   ]
  },
  {
   "cell_type": "code",
   "execution_count": 17,
   "metadata": {},
   "outputs": [],
   "source": [
    "cos_sim = util.cos_sim(embeddings, embeddings)"
   ]
  },
  {
   "cell_type": "code",
   "execution_count": 18,
   "metadata": {},
   "outputs": [],
   "source": [
    "similarity_df = pd.DataFrame(cos_sim)"
   ]
  },
  {
   "cell_type": "code",
   "execution_count": 19,
   "metadata": {},
   "outputs": [
    {
     "data": {
      "text/html": [
       "<div>\n",
       "<style scoped>\n",
       "    .dataframe tbody tr th:only-of-type {\n",
       "        vertical-align: middle;\n",
       "    }\n",
       "\n",
       "    .dataframe tbody tr th {\n",
       "        vertical-align: top;\n",
       "    }\n",
       "\n",
       "    .dataframe thead th {\n",
       "        text-align: right;\n",
       "    }\n",
       "</style>\n",
       "<table border=\"1\" class=\"dataframe\">\n",
       "  <thead>\n",
       "    <tr style=\"text-align: right;\">\n",
       "      <th></th>\n",
       "      <th>0</th>\n",
       "      <th>1</th>\n",
       "      <th>2</th>\n",
       "      <th>3</th>\n",
       "      <th>4</th>\n",
       "      <th>5</th>\n",
       "      <th>6</th>\n",
       "      <th>7</th>\n",
       "      <th>8</th>\n",
       "      <th>9</th>\n",
       "      <th>...</th>\n",
       "      <th>24990</th>\n",
       "      <th>24991</th>\n",
       "      <th>24992</th>\n",
       "      <th>24993</th>\n",
       "      <th>24994</th>\n",
       "      <th>24995</th>\n",
       "      <th>24996</th>\n",
       "      <th>24997</th>\n",
       "      <th>24998</th>\n",
       "      <th>24999</th>\n",
       "    </tr>\n",
       "  </thead>\n",
       "  <tbody>\n",
       "    <tr>\n",
       "      <th>0</th>\n",
       "      <td>1.000000</td>\n",
       "      <td>0.388779</td>\n",
       "      <td>0.521183</td>\n",
       "      <td>0.556013</td>\n",
       "      <td>0.539055</td>\n",
       "      <td>0.462960</td>\n",
       "      <td>0.424032</td>\n",
       "      <td>0.449598</td>\n",
       "      <td>0.553453</td>\n",
       "      <td>0.455835</td>\n",
       "      <td>...</td>\n",
       "      <td>0.539191</td>\n",
       "      <td>0.517333</td>\n",
       "      <td>0.490352</td>\n",
       "      <td>0.489927</td>\n",
       "      <td>0.451889</td>\n",
       "      <td>0.443245</td>\n",
       "      <td>0.389885</td>\n",
       "      <td>0.519190</td>\n",
       "      <td>0.512235</td>\n",
       "      <td>0.411215</td>\n",
       "    </tr>\n",
       "    <tr>\n",
       "      <th>1</th>\n",
       "      <td>0.388779</td>\n",
       "      <td>1.000000</td>\n",
       "      <td>0.504900</td>\n",
       "      <td>0.501146</td>\n",
       "      <td>0.472421</td>\n",
       "      <td>0.355256</td>\n",
       "      <td>0.417171</td>\n",
       "      <td>0.495605</td>\n",
       "      <td>0.437213</td>\n",
       "      <td>0.425212</td>\n",
       "      <td>...</td>\n",
       "      <td>0.497644</td>\n",
       "      <td>0.382998</td>\n",
       "      <td>0.455469</td>\n",
       "      <td>0.348523</td>\n",
       "      <td>0.474053</td>\n",
       "      <td>0.476317</td>\n",
       "      <td>0.317961</td>\n",
       "      <td>0.465851</td>\n",
       "      <td>0.476618</td>\n",
       "      <td>0.379288</td>\n",
       "    </tr>\n",
       "    <tr>\n",
       "      <th>2</th>\n",
       "      <td>0.521183</td>\n",
       "      <td>0.504900</td>\n",
       "      <td>1.000000</td>\n",
       "      <td>0.574440</td>\n",
       "      <td>0.572905</td>\n",
       "      <td>0.509668</td>\n",
       "      <td>0.462410</td>\n",
       "      <td>0.480853</td>\n",
       "      <td>0.536980</td>\n",
       "      <td>0.517986</td>\n",
       "      <td>...</td>\n",
       "      <td>0.607825</td>\n",
       "      <td>0.514046</td>\n",
       "      <td>0.593987</td>\n",
       "      <td>0.523652</td>\n",
       "      <td>0.490726</td>\n",
       "      <td>0.453753</td>\n",
       "      <td>0.413252</td>\n",
       "      <td>0.536125</td>\n",
       "      <td>0.615163</td>\n",
       "      <td>0.473930</td>\n",
       "    </tr>\n",
       "    <tr>\n",
       "      <th>3</th>\n",
       "      <td>0.556013</td>\n",
       "      <td>0.501146</td>\n",
       "      <td>0.574440</td>\n",
       "      <td>1.000000</td>\n",
       "      <td>0.882615</td>\n",
       "      <td>0.483101</td>\n",
       "      <td>0.488258</td>\n",
       "      <td>0.493010</td>\n",
       "      <td>0.566492</td>\n",
       "      <td>0.538338</td>\n",
       "      <td>...</td>\n",
       "      <td>0.568736</td>\n",
       "      <td>0.509073</td>\n",
       "      <td>0.567920</td>\n",
       "      <td>0.475656</td>\n",
       "      <td>0.513535</td>\n",
       "      <td>0.464334</td>\n",
       "      <td>0.423422</td>\n",
       "      <td>0.562718</td>\n",
       "      <td>0.496793</td>\n",
       "      <td>0.537681</td>\n",
       "    </tr>\n",
       "    <tr>\n",
       "      <th>4</th>\n",
       "      <td>0.539055</td>\n",
       "      <td>0.472421</td>\n",
       "      <td>0.572905</td>\n",
       "      <td>0.882615</td>\n",
       "      <td>1.000000</td>\n",
       "      <td>0.453808</td>\n",
       "      <td>0.470191</td>\n",
       "      <td>0.508774</td>\n",
       "      <td>0.546013</td>\n",
       "      <td>0.488342</td>\n",
       "      <td>...</td>\n",
       "      <td>0.584105</td>\n",
       "      <td>0.474550</td>\n",
       "      <td>0.534472</td>\n",
       "      <td>0.462861</td>\n",
       "      <td>0.501672</td>\n",
       "      <td>0.446204</td>\n",
       "      <td>0.416900</td>\n",
       "      <td>0.525003</td>\n",
       "      <td>0.535542</td>\n",
       "      <td>0.516275</td>\n",
       "    </tr>\n",
       "  </tbody>\n",
       "</table>\n",
       "<p>5 rows × 25000 columns</p>\n",
       "</div>"
      ],
      "text/plain": [
       "      0         1         2         3         4         5         6       \n",
       "0  1.000000  0.388779  0.521183  0.556013  0.539055  0.462960  0.424032  \\\n",
       "1  0.388779  1.000000  0.504900  0.501146  0.472421  0.355256  0.417171   \n",
       "2  0.521183  0.504900  1.000000  0.574440  0.572905  0.509668  0.462410   \n",
       "3  0.556013  0.501146  0.574440  1.000000  0.882615  0.483101  0.488258   \n",
       "4  0.539055  0.472421  0.572905  0.882615  1.000000  0.453808  0.470191   \n",
       "\n",
       "      7         8         9      ...     24990     24991     24992     24993   \n",
       "0  0.449598  0.553453  0.455835  ...  0.539191  0.517333  0.490352  0.489927  \\\n",
       "1  0.495605  0.437213  0.425212  ...  0.497644  0.382998  0.455469  0.348523   \n",
       "2  0.480853  0.536980  0.517986  ...  0.607825  0.514046  0.593987  0.523652   \n",
       "3  0.493010  0.566492  0.538338  ...  0.568736  0.509073  0.567920  0.475656   \n",
       "4  0.508774  0.546013  0.488342  ...  0.584105  0.474550  0.534472  0.462861   \n",
       "\n",
       "      24994     24995     24996     24997     24998     24999  \n",
       "0  0.451889  0.443245  0.389885  0.519190  0.512235  0.411215  \n",
       "1  0.474053  0.476317  0.317961  0.465851  0.476618  0.379288  \n",
       "2  0.490726  0.453753  0.413252  0.536125  0.615163  0.473930  \n",
       "3  0.513535  0.464334  0.423422  0.562718  0.496793  0.537681  \n",
       "4  0.501672  0.446204  0.416900  0.525003  0.535542  0.516275  \n",
       "\n",
       "[5 rows x 25000 columns]"
      ]
     },
     "execution_count": 19,
     "metadata": {},
     "output_type": "execute_result"
    }
   ],
   "source": [
    "similarity_df.head()"
   ]
  },
  {
   "cell_type": "code",
   "execution_count": 20,
   "metadata": {},
   "outputs": [],
   "source": [
    "similarity_df.to_csv('data/similarity_matrix.csv', index=False)"
   ]
  },
  {
   "cell_type": "code",
   "execution_count": 21,
   "metadata": {},
   "outputs": [],
   "source": [
    "song_index = 50"
   ]
  },
  {
   "cell_type": "code",
   "execution_count": 22,
   "metadata": {},
   "outputs": [],
   "source": [
    "similar_songs = np.flip(np.argsort(cos_sim[song_index].numpy()))[1:10]"
   ]
  },
  {
   "cell_type": "code",
   "execution_count": 23,
   "metadata": {},
   "outputs": [
    {
     "data": {
      "text/plain": [
       "artist                                                       ABBA\n",
       "song                                      Lay All Your Love On Me\n",
       "cleaned_text    i was n't jealous before we met now every woma...\n",
       "genres                                                   Rock,Pop\n",
       "Name: 50, dtype: object"
      ]
     },
     "execution_count": 23,
     "metadata": {},
     "output_type": "execute_result"
    }
   ],
   "source": [
    "df.loc[song_index]"
   ]
  },
  {
   "cell_type": "code",
   "execution_count": 24,
   "metadata": {},
   "outputs": [
    {
     "data": {
      "text/html": [
       "<div>\n",
       "<style scoped>\n",
       "    .dataframe tbody tr th:only-of-type {\n",
       "        vertical-align: middle;\n",
       "    }\n",
       "\n",
       "    .dataframe tbody tr th {\n",
       "        vertical-align: top;\n",
       "    }\n",
       "\n",
       "    .dataframe thead th {\n",
       "        text-align: right;\n",
       "    }\n",
       "</style>\n",
       "<table border=\"1\" class=\"dataframe\">\n",
       "  <thead>\n",
       "    <tr style=\"text-align: right;\">\n",
       "      <th></th>\n",
       "      <th>artist</th>\n",
       "      <th>song</th>\n",
       "      <th>cleaned_text</th>\n",
       "      <th>genres</th>\n",
       "      <th>similarity</th>\n",
       "    </tr>\n",
       "  </thead>\n",
       "  <tbody>\n",
       "    <tr>\n",
       "      <th>7688</th>\n",
       "      <td>Helloween</td>\n",
       "      <td>Lay All Your Love On Me</td>\n",
       "      <td>( originally performed by abba ) verse 1 : i w...</td>\n",
       "      <td>Hip Hop,Pop</td>\n",
       "      <td>0.903757</td>\n",
       "    </tr>\n",
       "    <tr>\n",
       "      <th>5943</th>\n",
       "      <td>Faith Hill</td>\n",
       "      <td>Since I Laid Eyes On You</td>\n",
       "      <td>why did i show my hand now you know your wish ...</td>\n",
       "      <td>Rock,Pop</td>\n",
       "      <td>0.806928</td>\n",
       "    </tr>\n",
       "    <tr>\n",
       "      <th>17498</th>\n",
       "      <td>Reo Speedwagon</td>\n",
       "      <td>Can't Lie To My Heart</td>\n",
       "      <td>i think to much about you baby you 've on my m...</td>\n",
       "      <td>Rock,Pop</td>\n",
       "      <td>0.803351</td>\n",
       "    </tr>\n",
       "    <tr>\n",
       "      <th>23251</th>\n",
       "      <td>Alabama</td>\n",
       "      <td>This Loves On Me</td>\n",
       "      <td>sittin ' alone at a table for two , when she w...</td>\n",
       "      <td>Rock,Pop</td>\n",
       "      <td>0.799155</td>\n",
       "    </tr>\n",
       "    <tr>\n",
       "      <th>6694</th>\n",
       "      <td>George Michael</td>\n",
       "      <td>I Can't Make You Love Me</td>\n",
       "      <td>turn down the lights , turn down the bed turn ...</td>\n",
       "      <td>Rock,Pop</td>\n",
       "      <td>0.799121</td>\n",
       "    </tr>\n",
       "    <tr>\n",
       "      <th>4583</th>\n",
       "      <td>Dusty Springfield</td>\n",
       "      <td>A Love Like Yours</td>\n",
       "      <td>i broke your heart and i made you blue instead...</td>\n",
       "      <td>Pop,Rock</td>\n",
       "      <td>0.797554</td>\n",
       "    </tr>\n",
       "    <tr>\n",
       "      <th>10455</th>\n",
       "      <td>Kenny Rogers</td>\n",
       "      <td>I Can't Make You Love Me</td>\n",
       "      <td>turn down the lights , turn down the bed turn ...</td>\n",
       "      <td>Rock,Pop</td>\n",
       "      <td>0.796172</td>\n",
       "    </tr>\n",
       "    <tr>\n",
       "      <th>24002</th>\n",
       "      <td>Amy Grant</td>\n",
       "      <td>Lay Down</td>\n",
       "      <td>it 's a cold , cold world that we 're walking ...</td>\n",
       "      <td>Rock,Pop</td>\n",
       "      <td>0.795585</td>\n",
       "    </tr>\n",
       "    <tr>\n",
       "      <th>2272</th>\n",
       "      <td>Cat Stevens</td>\n",
       "      <td>Last Love Song</td>\n",
       "      <td>if you do n't love me please do n't treat me t...</td>\n",
       "      <td>Rock,Pop</td>\n",
       "      <td>0.794542</td>\n",
       "    </tr>\n",
       "  </tbody>\n",
       "</table>\n",
       "</div>"
      ],
      "text/plain": [
       "                  artist                      song   \n",
       "7688           Helloween   Lay All Your Love On Me  \\\n",
       "5943          Faith Hill  Since I Laid Eyes On You   \n",
       "17498     Reo Speedwagon     Can't Lie To My Heart   \n",
       "23251            Alabama          This Loves On Me   \n",
       "6694      George Michael  I Can't Make You Love Me   \n",
       "4583   Dusty Springfield         A Love Like Yours   \n",
       "10455       Kenny Rogers  I Can't Make You Love Me   \n",
       "24002          Amy Grant                  Lay Down   \n",
       "2272         Cat Stevens            Last Love Song   \n",
       "\n",
       "                                            cleaned_text       genres   \n",
       "7688   ( originally performed by abba ) verse 1 : i w...  Hip Hop,Pop  \\\n",
       "5943   why did i show my hand now you know your wish ...     Rock,Pop   \n",
       "17498  i think to much about you baby you 've on my m...     Rock,Pop   \n",
       "23251  sittin ' alone at a table for two , when she w...     Rock,Pop   \n",
       "6694   turn down the lights , turn down the bed turn ...     Rock,Pop   \n",
       "4583   i broke your heart and i made you blue instead...     Pop,Rock   \n",
       "10455  turn down the lights , turn down the bed turn ...     Rock,Pop   \n",
       "24002  it 's a cold , cold world that we 're walking ...     Rock,Pop   \n",
       "2272   if you do n't love me please do n't treat me t...     Rock,Pop   \n",
       "\n",
       "       similarity  \n",
       "7688     0.903757  \n",
       "5943     0.806928  \n",
       "17498    0.803351  \n",
       "23251    0.799155  \n",
       "6694     0.799121  \n",
       "4583     0.797554  \n",
       "10455    0.796172  \n",
       "24002    0.795585  \n",
       "2272     0.794542  "
      ]
     },
     "execution_count": 24,
     "metadata": {},
     "output_type": "execute_result"
    }
   ],
   "source": [
    "odf = df.loc[similar_songs]\n",
    "odf['similarity'] = cos_sim[song_index].numpy()[similar_songs]\n",
    "odf"
   ]
  }
 ],
 "metadata": {
  "kernelspec": {
   "display_name": "Python 3",
   "language": "python",
   "name": "python3"
  },
  "language_info": {
   "codemirror_mode": {
    "name": "ipython",
    "version": 3
   },
   "file_extension": ".py",
   "mimetype": "text/x-python",
   "name": "python",
   "nbconvert_exporter": "python",
   "pygments_lexer": "ipython3",
   "version": "3.11.0"
  }
 },
 "nbformat": 4,
 "nbformat_minor": 2
}
