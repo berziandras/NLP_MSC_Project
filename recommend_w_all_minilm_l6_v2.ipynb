{
 "cells": [
  {
   "cell_type": "code",
   "execution_count": 1,
   "metadata": {},
   "outputs": [],
   "source": [
    "from sentence_transformers import SentenceTransformer, util\n",
    "import pandas as pd\n",
    "from tqdm import tqdm\n",
    "import numpy as np"
   ]
  },
  {
   "cell_type": "code",
   "execution_count": 2,
   "metadata": {},
   "outputs": [],
   "source": [
    "model = SentenceTransformer('sentence-transformers/all-MiniLM-L6-v2')"
   ]
  },
  {
   "cell_type": "code",
   "execution_count": 3,
   "metadata": {},
   "outputs": [],
   "source": [
    "df = pd.read_csv(\"data/processed_spotify_millsongdata.csv\")"
   ]
  },
  {
   "cell_type": "code",
   "execution_count": 4,
   "metadata": {},
   "outputs": [],
   "source": [
    "df = df.head(1000).copy()"
   ]
  },
  {
   "cell_type": "code",
   "execution_count": 5,
   "metadata": {},
   "outputs": [
    {
     "data": {
      "application/vnd.jupyter.widget-view+json": {
       "model_id": "97d28fad027f4a67b04e7369fae53f34",
       "version_major": 2,
       "version_minor": 0
      },
      "text/plain": [
       "Batches:   0%|          | 0/32 [00:00<?, ?it/s]"
      ]
     },
     "metadata": {},
     "output_type": "display_data"
    },
    {
     "data": {
      "application/vnd.jupyter.widget-view+json": {
       "model_id": "e77dac79711e4425a6eeef86e9499a6d",
       "version_major": 2,
       "version_minor": 0
      },
      "text/plain": [
       "Batches:   0%|          | 0/32 [00:00<?, ?it/s]"
      ]
     },
     "metadata": {},
     "output_type": "display_data"
    }
   ],
   "source": [
    "song_embeddings = model.encode(df['song'].values, show_progress_bar=True)\n",
    "lyrics_embeddings = model.encode(df['cleaned_text'].values, show_progress_bar=True)"
   ]
  },
  {
   "cell_type": "code",
   "execution_count": 6,
   "metadata": {},
   "outputs": [],
   "source": [
    "embeddings = []\n",
    "for i in range(len(song_embeddings)):\n",
    "    embeddings.append((song_embeddings[i] + lyrics_embeddings[i])/2)"
   ]
  },
  {
   "cell_type": "code",
   "execution_count": 7,
   "metadata": {},
   "outputs": [
    {
     "name": "stderr",
     "output_type": "stream",
     "text": [
      "c:\\Users\\berzi\\AppData\\Local\\Programs\\Python\\Python311\\Lib\\site-packages\\sentence_transformers\\util.py:38: UserWarning: Creating a tensor from a list of numpy.ndarrays is extremely slow. Please consider converting the list to a single numpy.ndarray with numpy.array() before converting to a tensor. (Triggered internally at ..\\torch\\csrc\\utils\\tensor_new.cpp:248.)\n",
      "  a = torch.tensor(a)\n"
     ]
    }
   ],
   "source": [
    "cos_sim = util.cos_sim(embeddings, embeddings)"
   ]
  },
  {
   "cell_type": "code",
   "execution_count": 12,
   "metadata": {},
   "outputs": [],
   "source": [
    "similar_songs = np.flip(np.argsort(cos_sim[10].numpy()))[1:10]"
   ]
  },
  {
   "cell_type": "code",
   "execution_count": 13,
   "metadata": {},
   "outputs": [
    {
     "data": {
      "text/plain": [
       "array([195,  11, 201, 256, 770,  91, 707,  74, 674], dtype=int64)"
      ]
     },
     "execution_count": 13,
     "metadata": {},
     "output_type": "execute_result"
    }
   ],
   "source": [
    "similar_songs"
   ]
  },
  {
   "cell_type": "code",
   "execution_count": 14,
   "metadata": {},
   "outputs": [
    {
     "data": {
      "text/plain": [
       "'Dance'"
      ]
     },
     "execution_count": 14,
     "metadata": {},
     "output_type": "execute_result"
    }
   ],
   "source": [
    "df['song'][10]"
   ]
  },
  {
   "cell_type": "code",
   "execution_count": 15,
   "metadata": {},
   "outputs": [
    {
     "data": {
      "text/html": [
       "<div>\n",
       "<style scoped>\n",
       "    .dataframe tbody tr th:only-of-type {\n",
       "        vertical-align: middle;\n",
       "    }\n",
       "\n",
       "    .dataframe tbody tr th {\n",
       "        vertical-align: top;\n",
       "    }\n",
       "\n",
       "    .dataframe thead th {\n",
       "        text-align: right;\n",
       "    }\n",
       "</style>\n",
       "<table border=\"1\" class=\"dataframe\">\n",
       "  <thead>\n",
       "    <tr style=\"text-align: right;\">\n",
       "      <th></th>\n",
       "      <th>artist</th>\n",
       "      <th>song</th>\n",
       "      <th>cleaned_text</th>\n",
       "    </tr>\n",
       "  </thead>\n",
       "  <tbody>\n",
       "    <tr>\n",
       "      <th>195</th>\n",
       "      <td>Aerosmith</td>\n",
       "      <td>Same Old Song And Dance</td>\n",
       "      <td>get yourself cooler , lay yourself low coincid...</td>\n",
       "    </tr>\n",
       "    <tr>\n",
       "      <th>11</th>\n",
       "      <td>ABBA</td>\n",
       "      <td>Dancing Queen</td>\n",
       "      <td>you can dance , you can jive , having the time...</td>\n",
       "    </tr>\n",
       "    <tr>\n",
       "      <th>201</th>\n",
       "      <td>Aerosmith</td>\n",
       "      <td>Shut Up And Dance</td>\n",
       "      <td>talk is cheap , shut up and dance do n't get d...</td>\n",
       "    </tr>\n",
       "    <tr>\n",
       "      <th>256</th>\n",
       "      <td>Air Supply</td>\n",
       "      <td>Dancing With The Mountain</td>\n",
       "      <td>hot sun as warm as the kissing of the wind foo...</td>\n",
       "    </tr>\n",
       "    <tr>\n",
       "      <th>770</th>\n",
       "      <td>Annie</td>\n",
       "      <td>Heartbeat</td>\n",
       "      <td>there was a time everybody was around and i wa...</td>\n",
       "    </tr>\n",
       "    <tr>\n",
       "      <th>91</th>\n",
       "      <td>ABBA</td>\n",
       "      <td>Thank You For The Music</td>\n",
       "      <td>i 'm nothing special , in fact i 'm a bit of a...</td>\n",
       "    </tr>\n",
       "    <tr>\n",
       "      <th>707</th>\n",
       "      <td>Amy Grant</td>\n",
       "      <td>Beautiful Music</td>\n",
       "      <td>once my life had no direction , i was lost as ...</td>\n",
       "    </tr>\n",
       "    <tr>\n",
       "      <th>74</th>\n",
       "      <td>ABBA</td>\n",
       "      <td>Reina Danzante</td>\n",
       "      <td>you can dance you can jive having the time of ...</td>\n",
       "    </tr>\n",
       "    <tr>\n",
       "      <th>674</th>\n",
       "      <td>America</td>\n",
       "      <td>Moon Song</td>\n",
       "      <td>the moon begins to rise upon my fallen eyes i ...</td>\n",
       "    </tr>\n",
       "  </tbody>\n",
       "</table>\n",
       "</div>"
      ],
      "text/plain": [
       "         artist                       song   \n",
       "195   Aerosmith    Same Old Song And Dance  \\\n",
       "11         ABBA              Dancing Queen   \n",
       "201   Aerosmith          Shut Up And Dance   \n",
       "256  Air Supply  Dancing With The Mountain   \n",
       "770       Annie                  Heartbeat   \n",
       "91         ABBA    Thank You For The Music   \n",
       "707   Amy Grant            Beautiful Music   \n",
       "74         ABBA             Reina Danzante   \n",
       "674     America                  Moon Song   \n",
       "\n",
       "                                          cleaned_text  \n",
       "195  get yourself cooler , lay yourself low coincid...  \n",
       "11   you can dance , you can jive , having the time...  \n",
       "201  talk is cheap , shut up and dance do n't get d...  \n",
       "256  hot sun as warm as the kissing of the wind foo...  \n",
       "770  there was a time everybody was around and i wa...  \n",
       "91   i 'm nothing special , in fact i 'm a bit of a...  \n",
       "707  once my life had no direction , i was lost as ...  \n",
       "74   you can dance you can jive having the time of ...  \n",
       "674  the moon begins to rise upon my fallen eyes i ...  "
      ]
     },
     "execution_count": 15,
     "metadata": {},
     "output_type": "execute_result"
    }
   ],
   "source": [
    "df.loc[similar_songs]"
   ]
  }
 ],
 "metadata": {
  "kernelspec": {
   "display_name": "Python 3",
   "language": "python",
   "name": "python3"
  },
  "language_info": {
   "codemirror_mode": {
    "name": "ipython",
    "version": 3
   },
   "file_extension": ".py",
   "mimetype": "text/x-python",
   "name": "python",
   "nbconvert_exporter": "python",
   "pygments_lexer": "ipython3",
   "version": "3.11.0"
  }
 },
 "nbformat": 4,
 "nbformat_minor": 2
}
