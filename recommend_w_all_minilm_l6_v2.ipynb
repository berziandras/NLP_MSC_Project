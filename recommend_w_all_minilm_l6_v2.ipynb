{
 "cells": [
  {
   "cell_type": "code",
   "execution_count": 1,
   "metadata": {},
   "outputs": [],
   "source": [
    "from sentence_transformers import SentenceTransformer, util\n",
    "import pandas as pd\n",
    "from tqdm import tqdm\n",
    "import numpy as np"
   ]
  },
  {
   "cell_type": "code",
   "execution_count": 2,
   "metadata": {},
   "outputs": [],
   "source": [
    "model = SentenceTransformer('sentence-transformers/all-MiniLM-L6-v2')"
   ]
  },
  {
   "cell_type": "code",
   "execution_count": 17,
   "metadata": {},
   "outputs": [],
   "source": [
    "df = pd.read_csv(\"data/spotify_millsongdata_w_genres.csv\")"
   ]
  },
  {
   "cell_type": "code",
   "execution_count": 18,
   "metadata": {},
   "outputs": [
    {
     "data": {
      "application/vnd.jupyter.widget-view+json": {
       "model_id": "1254c8c7f7314c9f802288c640720b68",
       "version_major": 2,
       "version_minor": 0
      },
      "text/plain": [
       "Batches:   0%|          | 0/4 [00:00<?, ?it/s]"
      ]
     },
     "metadata": {},
     "output_type": "display_data"
    },
    {
     "data": {
      "application/vnd.jupyter.widget-view+json": {
       "model_id": "44f09462cb75477790bd0556c9b30e96",
       "version_major": 2,
       "version_minor": 0
      },
      "text/plain": [
       "Batches:   0%|          | 0/4 [00:00<?, ?it/s]"
      ]
     },
     "metadata": {},
     "output_type": "display_data"
    },
    {
     "data": {
      "application/vnd.jupyter.widget-view+json": {
       "model_id": "532c3a2b6d2848bbae6b3b8f2d4b2ffd",
       "version_major": 2,
       "version_minor": 0
      },
      "text/plain": [
       "Batches:   0%|          | 0/4 [00:00<?, ?it/s]"
      ]
     },
     "metadata": {},
     "output_type": "display_data"
    }
   ],
   "source": [
    "song_embeddings = model.encode(df['song'].values, show_progress_bar=True)\n",
    "lyrics_embeddings = model.encode(df['cleaned_text'].values, show_progress_bar=True)\n",
    "genres_embeddings = model.encode(df['genres'].values, show_progress_bar=True)"
   ]
  },
  {
   "cell_type": "code",
   "execution_count": 19,
   "metadata": {},
   "outputs": [],
   "source": [
    "embeddings = []\n",
    "for i in range(len(song_embeddings)):\n",
    "    embeddings.append((song_embeddings[i] + lyrics_embeddings[i] + genres_embeddings[i]) / 3)"
   ]
  },
  {
   "cell_type": "code",
   "execution_count": 20,
   "metadata": {},
   "outputs": [],
   "source": [
    "cos_sim = util.cos_sim(embeddings, embeddings)"
   ]
  },
  {
   "cell_type": "code",
   "execution_count": 21,
   "metadata": {},
   "outputs": [
    {
     "data": {
      "text/plain": [
       "torch.Size([100, 100])"
      ]
     },
     "execution_count": 21,
     "metadata": {},
     "output_type": "execute_result"
    }
   ],
   "source": [
    "cos_sim.shape"
   ]
  },
  {
   "cell_type": "code",
   "execution_count": 22,
   "metadata": {},
   "outputs": [],
   "source": [
    "similar_songs = np.flip(np.argsort(cos_sim[10].numpy()))[1:10]"
   ]
  },
  {
   "cell_type": "code",
   "execution_count": 23,
   "metadata": {},
   "outputs": [
    {
     "data": {
      "text/plain": [
       "array([11, 74, 14, 91, 95, 22, 96, 84,  3], dtype=int64)"
      ]
     },
     "execution_count": 23,
     "metadata": {},
     "output_type": "execute_result"
    }
   ],
   "source": [
    "similar_songs"
   ]
  },
  {
   "cell_type": "code",
   "execution_count": 26,
   "metadata": {},
   "outputs": [
    {
     "data": {
      "text/plain": [
       "artist                                                       ABBA\n",
       "song                                                        Dance\n",
       "cleaned_text    oh , my love it makes me sad . why did things ...\n",
       "genres                                                        Pop\n",
       "Name: 10, dtype: object"
      ]
     },
     "execution_count": 26,
     "metadata": {},
     "output_type": "execute_result"
    }
   ],
   "source": [
    "df.loc[10]"
   ]
  },
  {
   "cell_type": "code",
   "execution_count": 25,
   "metadata": {},
   "outputs": [
    {
     "data": {
      "text/html": [
       "<div>\n",
       "<style scoped>\n",
       "    .dataframe tbody tr th:only-of-type {\n",
       "        vertical-align: middle;\n",
       "    }\n",
       "\n",
       "    .dataframe tbody tr th {\n",
       "        vertical-align: top;\n",
       "    }\n",
       "\n",
       "    .dataframe thead th {\n",
       "        text-align: right;\n",
       "    }\n",
       "</style>\n",
       "<table border=\"1\" class=\"dataframe\">\n",
       "  <thead>\n",
       "    <tr style=\"text-align: right;\">\n",
       "      <th></th>\n",
       "      <th>artist</th>\n",
       "      <th>song</th>\n",
       "      <th>cleaned_text</th>\n",
       "      <th>genres</th>\n",
       "    </tr>\n",
       "  </thead>\n",
       "  <tbody>\n",
       "    <tr>\n",
       "      <th>11</th>\n",
       "      <td>ABBA</td>\n",
       "      <td>Dancing Queen</td>\n",
       "      <td>you can dance , you can jive , having the time...</td>\n",
       "      <td>Pop,Dance</td>\n",
       "    </tr>\n",
       "    <tr>\n",
       "      <th>74</th>\n",
       "      <td>ABBA</td>\n",
       "      <td>Reina Danzante</td>\n",
       "      <td>you can dance you can jive having the time of ...</td>\n",
       "      <td>Pop,Dance</td>\n",
       "    </tr>\n",
       "    <tr>\n",
       "      <th>14</th>\n",
       "      <td>ABBA</td>\n",
       "      <td>Dream World</td>\n",
       "      <td>agnetha we 're not the stars of a hollywood mo...</td>\n",
       "      <td>Dance,Pop</td>\n",
       "    </tr>\n",
       "    <tr>\n",
       "      <th>91</th>\n",
       "      <td>ABBA</td>\n",
       "      <td>Thank You For The Music</td>\n",
       "      <td>i 'm nothing special , in fact i 'm a bit of a...</td>\n",
       "      <td>Pop</td>\n",
       "    </tr>\n",
       "    <tr>\n",
       "      <th>95</th>\n",
       "      <td>ABBA</td>\n",
       "      <td>The Name Of The Game</td>\n",
       "      <td>i 've seen you twice , in a short time only a ...</td>\n",
       "      <td>Pop,Dance</td>\n",
       "    </tr>\n",
       "    <tr>\n",
       "      <th>22</th>\n",
       "      <td>ABBA</td>\n",
       "      <td>Gimme Gimme Gimme</td>\n",
       "      <td>half past twelve and i 'm watching the late sh...</td>\n",
       "      <td>Pop,Rock</td>\n",
       "    </tr>\n",
       "    <tr>\n",
       "      <th>96</th>\n",
       "      <td>ABBA</td>\n",
       "      <td>The Piper</td>\n",
       "      <td>they came from the hills and they came from th...</td>\n",
       "      <td>Rock,Pop</td>\n",
       "    </tr>\n",
       "    <tr>\n",
       "      <th>84</th>\n",
       "      <td>ABBA</td>\n",
       "      <td>So Long</td>\n",
       "      <td>you think you 're gon na make me sulk , you an...</td>\n",
       "      <td>Rock,Pop</td>\n",
       "    </tr>\n",
       "    <tr>\n",
       "      <th>3</th>\n",
       "      <td>ABBA</td>\n",
       "      <td>Bang</td>\n",
       "      <td>making somebody happy is a question of give an...</td>\n",
       "      <td>Pop</td>\n",
       "    </tr>\n",
       "  </tbody>\n",
       "</table>\n",
       "</div>"
      ],
      "text/plain": [
       "   artist                     song   \n",
       "11   ABBA            Dancing Queen  \\\n",
       "74   ABBA           Reina Danzante   \n",
       "14   ABBA              Dream World   \n",
       "91   ABBA  Thank You For The Music   \n",
       "95   ABBA     The Name Of The Game   \n",
       "22   ABBA        Gimme Gimme Gimme   \n",
       "96   ABBA                The Piper   \n",
       "84   ABBA                  So Long   \n",
       "3    ABBA                     Bang   \n",
       "\n",
       "                                         cleaned_text     genres  \n",
       "11  you can dance , you can jive , having the time...  Pop,Dance  \n",
       "74  you can dance you can jive having the time of ...  Pop,Dance  \n",
       "14  agnetha we 're not the stars of a hollywood mo...  Dance,Pop  \n",
       "91  i 'm nothing special , in fact i 'm a bit of a...        Pop  \n",
       "95  i 've seen you twice , in a short time only a ...  Pop,Dance  \n",
       "22  half past twelve and i 'm watching the late sh...   Pop,Rock  \n",
       "96  they came from the hills and they came from th...   Rock,Pop  \n",
       "84  you think you 're gon na make me sulk , you an...   Rock,Pop  \n",
       "3   making somebody happy is a question of give an...        Pop  "
      ]
     },
     "execution_count": 25,
     "metadata": {},
     "output_type": "execute_result"
    }
   ],
   "source": [
    "df.loc[similar_songs]"
   ]
  }
 ],
 "metadata": {
  "kernelspec": {
   "display_name": "Python 3",
   "language": "python",
   "name": "python3"
  },
  "language_info": {
   "codemirror_mode": {
    "name": "ipython",
    "version": 3
   },
   "file_extension": ".py",
   "mimetype": "text/x-python",
   "name": "python",
   "nbconvert_exporter": "python",
   "pygments_lexer": "ipython3",
   "version": "3.11.0"
  }
 },
 "nbformat": 4,
 "nbformat_minor": 2
}
